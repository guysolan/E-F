{
 "cells": [
  {
   "cell_type": "markdown",
   "metadata": {},
   "source": [
    "# Tutorial 2\n",
    "\n",
    "#### Mus - feel free to do these again in a different file - think they're just practice Q's and could be interesting to see how you'd do them differently."
   ]
  },
  {
   "cell_type": "markdown",
   "metadata": {},
   "source": [
    "## Question 2.3\n",
    "\n",
    "The data in Table P2.3 are available for two\n",
    "companies, A and B, all stated in millions.\n",
    "\n",
    "(a) Calculate each company’s return on equity (ROE) and return on total assets (ROA).\n",
    "\n",
    "(b) Why Company B’s ROE so much higher than Company A’s? Does this mean Company B is a better company? Why or why not?\n",
    "\n",
    "(c) If Companies A and B were combined (merged), what would be the impact on the results on ROE? Under what conditions would such a combination make sense?\n",
    "\n",
    "![alt text](./screenshots/fig_2.3.png \"Figure 2.3\")"
   ]
  },
  {
   "cell_type": "markdown",
   "metadata": {},
   "source": [
    "### 2.3 a)"
   ]
  },
  {
   "cell_type": "code",
   "execution_count": 1,
   "metadata": {},
   "outputs": [
    {
     "name": "stdout",
     "output_type": "stream",
     "text": [
      "0.21\n",
      "0.6\n"
     ]
    }
   ],
   "source": [
    "# ROE = Net_Income/Shareholders_Equity\n",
    "ROE_A = 168/800\n",
    "ROE_B = 240/400\n",
    "print(ROE_A)\n",
    "print(ROE_B)\n",
    "\n",
    "# ROA = Net_Income/Total_Assets\n",
    "ROA_A = ?\n",
    "ROA_B = ?\n",
    "print(ROA_A)\n",
    "print(ROA_B)"
   ]
  },
  {
   "cell_type": "markdown",
   "metadata": {},
   "source": [
    "### 2.3 b)\n",
    "\n",
    "Higher ROE means a higher profits relative to each stock. Higher is better for investors. To improve ROE you must either increase profits (net income) or decrease equity. Decreasing equity is challenging but can be done by borrowing more to increase debt or paying shareholders a dividend.\n",
    "\n",
    "### 2.3 c)"
   ]
  },
  {
   "cell_type": "code",
   "execution_count": 2,
   "metadata": {},
   "outputs": [
    {
     "name": "stdout",
     "output_type": "stream",
     "text": [
      "0.34\n"
     ]
    }
   ],
   "source": [
    "# Merging the companies would some equity and net income\n",
    "\n",
    "ROE = (168+240)/(800+400)\n",
    "print(ROE)"
   ]
  },
  {
   "cell_type": "markdown",
   "metadata": {},
   "source": [
    "This could make sense for company B if by merging, they could increase profits to increase ROE.\n",
    "For company A this would make sense if they wanted to be more attractive to investors by having a higher ROE."
   ]
  },
  {
   "cell_type": "markdown",
   "metadata": {},
   "source": []
  }
 ],
 "metadata": {
  "interpreter": {
   "hash": "efdca69d0ca37f3cd75811ff5af31778643cf0a6677105436e305cec4d2bd40a"
  },
  "kernelspec": {
   "display_name": "Python 3.8.3 64-bit",
   "language": "python",
   "name": "python3"
  },
  "language_info": {
   "codemirror_mode": {
    "name": "ipython",
    "version": 3
   },
   "file_extension": ".py",
   "mimetype": "text/x-python",
   "name": "python",
   "nbconvert_exporter": "python",
   "pygments_lexer": "ipython3",
   "version": "3.8.3"
  },
  "orig_nbformat": 4
 },
 "nbformat": 4,
 "nbformat_minor": 2
}
