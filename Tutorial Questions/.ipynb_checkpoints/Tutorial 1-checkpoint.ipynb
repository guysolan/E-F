{
 "cells": [
  {
   "cell_type": "markdown",
   "metadata": {},
   "source": [
    "# Tutorial 1"
   ]
  },
  {
   "cell_type": "code",
   "execution_count": 1,
   "metadata": {},
   "outputs": [],
   "source": [
    "#Question 1.10\n",
    "## Cost per kWh\n",
    "cost_per_kwh = 0.2\n",
    "led_cost = 30\n",
    "led_use = 300\n",
    "led_span = 30000\n",
    "halo_cost = 5\n",
    "halo_use = 60\n",
    "halo_span = 1000"
   ]
  },
  {
   "cell_type": "code",
   "execution_count": 22,
   "metadata": {},
   "outputs": [
    {
     "data": {
      "text/plain": [
       "'total saved: $ '"
      ]
     },
     "metadata": {},
     "output_type": "display_data"
    },
    {
     "data": {
      "text/plain": [
       "420.0"
      ]
     },
     "metadata": {},
     "output_type": "display_data"
    }
   ],
   "source": [
    "num_of_halo = led_span / halo_span\n",
    "\n",
    "\n",
    "cost_led = led_cost + cost_per_kwh * led_use\n",
    "\n",
    "cost_halo = (num_of_halo * halo_cost) + (num_of_halo * cost_per_kwh * halo_use)\n",
    "total_saved = cost_halo - cost_led\n",
    "display(\"total saved: $ \", total_saved)"
   ]
  },
  {
   "cell_type": "code",
   "execution_count": null,
   "metadata": {},
   "outputs": [],
   "source": []
  },
  {
   "cell_type": "markdown",
   "metadata": {},
   "source": [
    "## Chapter 2"
   ]
  },
  {
   "cell_type": "markdown",
   "metadata": {},
   "source": [
    "### Question 2.26"
   ]
  },
  {
   "cell_type": "code",
   "execution_count": 6,
   "metadata": {},
   "outputs": [],
   "source": [
    "import sympy as sp"
   ]
  },
  {
   "cell_type": "code",
   "execution_count": 2,
   "metadata": {},
   "outputs": [],
   "source": [
    "x,y,c,k,n,v = sp.symbols('x,y,c,k,n,v')\n",
    "co = k*n*v**2\n",
    "t = n/v\n",
    "cc = 1500*t\n",
    "ct = co+cc"
   ]
  },
  {
   "cell_type": "markdown",
   "metadata": {},
   "source": [
    "At 12 mph the average operations cost (co) is $100"
   ]
  },
  {
   "cell_type": "code",
   "execution_count": 3,
   "metadata": {},
   "outputs": [],
   "source": [
    "kval = 100/(v**2)\n",
    "kval = kval.subs('v',12)"
   ]
  },
  {
   "cell_type": "markdown",
   "metadata": {},
   "source": [
    "Find optimum speed to minimise total cost (ct) for an average journey. Set n=1 and differentiate ct"
   ]
  },
  {
   "cell_type": "code",
   "execution_count": 4,
   "metadata": {},
   "outputs": [
    {
     "name": "stdout",
     "output_type": "stream",
     "text": [
      "        1500\n",
      "2⋅k⋅v - ────\n",
      "          2 \n",
      "         v  \n"
     ]
    }
   ],
   "source": [
    "n=1\n",
    "ct_diff = sp.diff(ct,v)\n",
    "ct_diff = ct_diff.subs('n',1)\n",
    "sp.pprint(ct_diff)"
   ]
  },
  {
   "cell_type": "code",
   "execution_count": 5,
   "metadata": {},
   "outputs": [],
   "source": [
    "ct_diff = ct_diff.subs('k',kval)"
   ]
  },
  {
   "cell_type": "code",
   "execution_count": 6,
   "metadata": {},
   "outputs": [
    {
     "data": {
      "text/latex": [
       "$\\displaystyle \\left\\{10.2598556800602, -5.12992784003009 - 8.88529565809418 i, -5.12992784003009 + 8.88529565809418 i\\right\\}$"
      ],
      "text/plain": [
       "FiniteSet(10.2598556800602, -5.12992784003009 - 8.88529565809418*I, -5.12992784003009 + 8.88529565809418*I)"
      ]
     },
     "execution_count": 6,
     "metadata": {},
     "output_type": "execute_result"
    }
   ],
   "source": [
    "sp.N(sp.solveset(sp.Eq(ct_diff, 0).subs('k',kval)))"
   ]
  },
  {
   "cell_type": "markdown",
   "metadata": {},
   "source": [
    "Only real (non imaginary/complex) answer 10.26 mph"
   ]
  },
  {
   "cell_type": "markdown",
   "metadata": {},
   "source": [
    "### Question 2.42"
   ]
  },
  {
   "cell_type": "markdown",
   "metadata": {},
   "source": [
    "One method for developing a mine\n",
    "containing an estimated 100,000 tons of ore will result in the recovery of 62% of the available ore deposit and will cost $23 per ton of material removed. A second method of development will recover only 50% of the ore deposit, but it will cost only $15 per ton of material removed. Subsequent processing of the removed ore\n",
    "recovers 300 pounds of metal from each ton of processed\n",
    "ore and costs $40 per ton of ore processed. The recovered metal can be sold for $0.80 per pound. Which method for developing the mine should be used if your objective is to maximize total profit from the mine?"
   ]
  },
  {
   "cell_type": "code",
   "execution_count": 13,
   "metadata": {},
   "outputs": [
    {
     "name": "stdout",
     "output_type": "stream",
     "text": [
      " Mine A profit = 10974000.0 \n",
      " Mine B profit = 9250000.0\n"
     ]
    }
   ],
   "source": [
    "total_tons = 100000\n",
    "\n",
    "# Mine A = A\n",
    "# Mine B = B\n",
    "\n",
    "A_ore = 0.62*total_tons\n",
    "A_mine = A_ore * 23\n",
    "A_metal = A_ore * 300\n",
    "A_processing = A_ore*40\n",
    "A_revenue = A_metal * 0.8\n",
    "A_cost = A_mine + A_processing\n",
    "A_profit = A_revenue - A_cost\n",
    "\n",
    "B_ore = 0.5*total_tons\n",
    "B_mine = B_ore * 15\n",
    "B_metal = B_ore * 300\n",
    "B_processing = B_ore*40\n",
    "B_revenue = B_metal * 0.8\n",
    "B_cost = B_mine + B_processing\n",
    "B_profit = B_revenue - B_cost\n",
    "\n",
    "print(f' Mine A profit = {A_profit} \\n Mine B profit = {B_profit}')\n",
    "\n"
   ]
  }
 ],
 "metadata": {
  "kernelspec": {
   "display_name": "Python 3 (ipykernel)",
   "language": "python",
   "name": "python3"
  },
  "language_info": {
   "codemirror_mode": {
    "name": "ipython",
    "version": 3
   },
   "file_extension": ".py",
   "mimetype": "text/x-python",
   "name": "python",
   "nbconvert_exporter": "python",
   "pygments_lexer": "ipython3",
   "version": "3.9.7"
  }
 },
 "nbformat": 4,
 "nbformat_minor": 2
}
